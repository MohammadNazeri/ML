{
  "nbformat": 4,
  "nbformat_minor": 0,
  "metadata": {
    "colab": {
      "provenance": []
    },
    "kernelspec": {
      "name": "python3",
      "display_name": "Python 3"
    },
    "language_info": {
      "name": "python"
    }
  },
  "cells": [
    {
      "cell_type": "code",
      "source": [
        "import math\n",
        "import random\n",
        "import numpy as np\n",
        "import requests\n",
        "import pandas as pd\n",
        "import torch\n",
        "import torch.optim as optim\n",
        "import matplotlib.pyplot as plt\n",
        "from sklearn.model_selection import train_test_split"
      ],
      "metadata": {
        "id": "Ntpf9xnUwscK"
      },
      "execution_count": null,
      "outputs": []
    },
    {
      "cell_type": "markdown",
      "source": [
        "#Question 3\n",
        "Part1"
      ],
      "metadata": {
        "id": "rnVQ8eWJwV_w"
      }
    },
    {
      "cell_type": "code",
      "execution_count": null,
      "metadata": {
        "id": "gSu_ZauZwC7W"
      },
      "outputs": [],
      "source": [
        "dataframe = pd.read_csv(\"/content/sample_data/Health Insurance Dataset.csv\")\n",
        "dataframe['bmi'] = dataframe['bmi'].str.replace('٫', '.')\n",
        "dataframe['charges'] = dataframe['charges'].str.replace('٫', '.')\n",
        "\n",
        "dataframe_num = dataframe\n",
        "replacement_map = {'male': 1, 'female': 0}\n",
        "dataframe_num['sex'] = dataframe_num['sex'].replace(replacement_map)\n",
        "replacement_map = {'no': 0, 'yes': 1}\n",
        "dataframe_num['smoker'] = dataframe_num['smoker'].replace(replacement_map)\n",
        "replacement_map = {'southwest': 0, 'northwest': 1, 'northeast':2 , 'southeast':3}\n",
        "dataframe_num['region'] = dataframe_num['region'].replace(replacement_map)\n",
        "dataframe_num['charges'] = pd.to_numeric(dataframe_num['charges'], errors='coerce', downcast='float')\n",
        "dataframe_num['bmi'] = pd.to_numeric(dataframe_num['bmi'], errors='coerce', downcast='float')"
      ]
    },
    {
      "cell_type": "code",
      "source": [
        "dataframe_x = dataframe_num[dataframe_num.columns.difference(['charges'])]\n",
        "X_train, X_test, y_train, y_test = train_test_split(dataframe_x, dataframe_num['charges'], test_size=0.3)"
      ],
      "metadata": {
        "id": "gB2AzK-3w51f"
      },
      "execution_count": null,
      "outputs": []
    },
    {
      "cell_type": "code",
      "source": [
        "X_trn_torch = torch.tensor(X_train.values,dtype=torch.float32)\n",
        "y_trn_torch = torch.tensor(y_train.values,dtype=torch.float32)\n",
        "X_tst_torch = torch.tensor(X_test.values,dtype=torch.float32)\n",
        "y_tst_torch = torch.tensor(y_test.values,dtype=torch.float32)"
      ],
      "metadata": {
        "id": "ugkHWFU38bmW"
      },
      "execution_count": null,
      "outputs": []
    },
    {
      "cell_type": "code",
      "source": [
        "torch.manual_seed(0)\n",
        "\n",
        "model = torch.nn.Sequential(\n",
        "    torch.nn.Linear(6, 256),\n",
        "    torch.nn.ReLU(),\n",
        "    torch.nn.Linear(256, 128),\n",
        "    torch.nn.ReLU(),\n",
        "    torch.nn.Linear(128, 1),\n",
        ")\n",
        "loss_module = torch.nn.MSELoss()\n",
        "optimizer = torch.optim.SGD(model.parameters(), lr=0.01)"
      ],
      "metadata": {
        "id": "0R5_Szv49zb0"
      },
      "execution_count": null,
      "outputs": []
    },
    {
      "cell_type": "code",
      "source": [
        "num_epochs = 10\n",
        "#model.train()\n",
        "for epoch in range(num_epochs):\n",
        "    y_train_preds = model(X_trn_torch)\n",
        "    loss = loss_module(y_train_preds, y_trn_torch)\n",
        "    optimizer.zero_grad()\n",
        "    loss.backward()\n",
        "    optimizer.step()\n",
        "    break\n",
        "#print(model.state_dict())\n",
        "#print(loss_module(model(X_tst_torch), y_tst_torch))"
      ],
      "metadata": {
        "colab": {
          "base_uri": "https://localhost:8080/"
        },
        "id": "18Y-HJGABEhH",
        "outputId": "3730ee75-73c9-4b8e-ea8b-7a560c02aee2"
      },
      "execution_count": null,
      "outputs": [
        {
          "output_type": "stream",
          "name": "stderr",
          "text": [
            "/usr/local/lib/python3.10/dist-packages/torch/nn/modules/loss.py:535: UserWarning: Using a target size (torch.Size([936])) that is different to the input size (torch.Size([936, 1])). This will likely lead to incorrect results due to broadcasting. Please ensure they have the same size.\n",
            "  return F.mse_loss(input, target, reduction=self.reduction)\n"
          ]
        }
      ]
    },
    {
      "cell_type": "code",
      "source": [
        "y_train_pred = model(X_trn_torch)\n",
        "mse = loss_module(y_train_pred, y_trn_torch)\n",
        "print(\"The mean square error on training data: \",mse)\n",
        "y_tst_pred = model(X_tst_torch)\n",
        "mse = loss_module(y_tst_pred, y_tst_torch)\n",
        "print(\"The mean square error on testing data: \",mse)"
      ],
      "metadata": {
        "colab": {
          "base_uri": "https://localhost:8080/"
        },
        "id": "DCOelVQmLAyT",
        "outputId": "9936d181-ddae-4f33-99c7-9d0fb275d52c"
      },
      "execution_count": null,
      "outputs": [
        {
          "output_type": "stream",
          "name": "stdout",
          "text": [
            "The mean square error on training data:  tensor(1.1759e+24, grad_fn=<MseLossBackward0>)\n",
            "The mean square error on testing data:  tensor(1.1867e+24, grad_fn=<MseLossBackward0>)\n"
          ]
        },
        {
          "output_type": "stream",
          "name": "stderr",
          "text": [
            "/usr/local/lib/python3.10/dist-packages/torch/nn/modules/loss.py:535: UserWarning: Using a target size (torch.Size([402])) that is different to the input size (torch.Size([402, 1])). This will likely lead to incorrect results due to broadcasting. Please ensure they have the same size.\n",
            "  return F.mse_loss(input, target, reduction=self.reduction)\n"
          ]
        }
      ]
    }
  ]
}