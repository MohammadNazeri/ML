{
  "nbformat": 4,
  "nbformat_minor": 0,
  "metadata": {
    "colab": {
      "provenance": []
    },
    "kernelspec": {
      "name": "python3",
      "display_name": "Python 3"
    },
    "language_info": {
      "name": "python"
    }
  },
  "cells": [
    {
      "cell_type": "markdown",
      "source": [
        "#Question 3\n",
        "Part 2"
      ],
      "metadata": {
        "id": "2BmSYVXlUmoK"
      }
    },
    {
      "cell_type": "code",
      "execution_count": null,
      "metadata": {
        "id": "8S31b_gXUagz"
      },
      "outputs": [],
      "source": [
        "import numpy as np\n",
        "import pandas as pd\n",
        "from matplotlib import pyplot as plt\n",
        "from sklearn.model_selection import train_test_split\n",
        "import torch\n",
        "import torch.optim as optim\n",
        "from sklearn.metrics import classification_report"
      ]
    },
    {
      "cell_type": "code",
      "source": [
        "dataframe = pd.read_csv(\"/content/sample_data/lung cancer dataset.csv\")"
      ],
      "metadata": {
        "id": "NQMLk99jUqSK"
      },
      "execution_count": null,
      "outputs": []
    },
    {
      "cell_type": "code",
      "source": [
        "dataframe_num = dataframe\n",
        "replacement_map = {'F': 1, 'M': 2}\n",
        "dataframe_num['GENDER'] = dataframe_num['GENDER'].replace(replacement_map)\n",
        "replacement_map = {'NO': 0, 'YES': 1}\n",
        "dataframe_num['LUNG_CANCER'] = dataframe_num['LUNG_CANCER'].replace(replacement_map)"
      ],
      "metadata": {
        "id": "SUzpWYOXUs3x"
      },
      "execution_count": null,
      "outputs": []
    },
    {
      "cell_type": "code",
      "source": [
        "dataframe_x = dataframe_num[dataframe_num.columns.difference(['LUNG_CANCER'])]\n",
        "X_train, X_test, y_train, y_test = train_test_split(dataframe_x, dataframe_num['LUNG_CANCER'], test_size=0.3)"
      ],
      "metadata": {
        "id": "BKjqAySXU5Ab"
      },
      "execution_count": null,
      "outputs": []
    },
    {
      "cell_type": "code",
      "source": [
        "X_trn_torch = torch.tensor(X_train.values,dtype=torch.float32)\n",
        "y_trn_torch = torch.tensor(y_train.values,dtype=torch.float32)\n",
        "X_tst_torch = torch.tensor(X_test.values,dtype=torch.float32)\n",
        "y_tst_torch = torch.tensor(y_test.values,dtype=torch.float32)"
      ],
      "metadata": {
        "id": "ye1J2e9AVD3h"
      },
      "execution_count": null,
      "outputs": []
    },
    {
      "cell_type": "code",
      "source": [
        "model = torch.nn.Sequential(\n",
        "    torch.nn.Linear(15,256),\n",
        "    torch.nn.ReLU(),\n",
        "    torch.nn.Linear(256,128),\n",
        "    torch.nn.Sigmoid(),\n",
        "    torch.nn.Linear(128,1),\n",
        "    torch.nn.Sigmoid()\n",
        "    )\n",
        "loss = torch.nn.BCELoss()\n",
        "optimizer = optim.SGD(model.parameters(), lr=0.5)"
      ],
      "metadata": {
        "id": "254v-W4nVslF"
      },
      "execution_count": null,
      "outputs": []
    },
    {
      "cell_type": "code",
      "source": [
        "num_epochs = 1000\n",
        "\n",
        "for epoch in range(num_epochs):\n",
        "    y_train_pred = model(X_trn_torch)\n",
        "    l = loss(y_train_pred, y_trn_torch.view(-1, 1))\n",
        "\n",
        "    optimizer.zero_grad()\n",
        "    l.backward()\n",
        "    optimizer.step()\n",
        "\n",
        "#y_test_pred = model(X_tst_torch)\n",
        "#print(loss(y_test_pred, y_tst_torch.view(-1, 1)))"
      ],
      "metadata": {
        "id": "1TR32U3CWy9y"
      },
      "execution_count": null,
      "outputs": []
    },
    {
      "cell_type": "code",
      "source": [
        "y_train_pred = model(X_trn_torch)\n",
        "y_train_pred_out = (y_train_pred > 0.5).float()\n",
        "correct = (y_train_pred_out[:,0] == y_trn_torch).sum().item()\n",
        "print(\"The accuracy of model in train data is: \", correct/len(y_train_pred_out))\n",
        "print(\"The output of loss function is: \",loss(y_train_pred, y_trn_torch.view(-1, 1)))\n",
        "y_test_pred = model(X_tst_torch)\n",
        "y_test_pred_out = (y_test_pred > 0.5).float()\n",
        "correct = (y_test_pred_out[:,0] == y_tst_torch).sum().item()\n",
        "print(\"The accuracy of model in test data is: \", correct/len(y_test_pred_out))\n",
        "print(\"The output of loss function is: \",loss(y_train_pred, y_trn_torch.view(-1, 1)))\n",
        "print(loss(y_test_pred, y_tst_torch.view(-1, 1)))"
      ],
      "metadata": {
        "colab": {
          "base_uri": "https://localhost:8080/"
        },
        "id": "NgKig-EwOLob",
        "outputId": "a1162139-61eb-42b1-976c-57bc05ebabdf"
      },
      "execution_count": null,
      "outputs": [
        {
          "output_type": "stream",
          "name": "stdout",
          "text": [
            "The accuracy of model in train data is:  0.8842592592592593\n",
            "The output of loss function is:  tensor(0.3689, grad_fn=<BinaryCrossEntropyBackward0>)\n",
            "The accuracy of model in test data is:  0.8602150537634409\n",
            "The output of loss function is:  tensor(0.3689, grad_fn=<BinaryCrossEntropyBackward0>)\n",
            "tensor(0.4044, grad_fn=<BinaryCrossEntropyBackward0>)\n"
          ]
        }
      ]
    }
  ]
}