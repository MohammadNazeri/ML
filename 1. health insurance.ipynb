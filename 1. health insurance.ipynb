{
  "nbformat": 4,
  "nbformat_minor": 0,
  "metadata": {
    "colab": {
      "provenance": []
    },
    "kernelspec": {
      "name": "python3",
      "display_name": "Python 3"
    },
    "language_info": {
      "name": "python"
    }
  },
  "cells": [
    {
      "cell_type": "markdown",
      "source": [
        "# Implementation Questions\n",
        "**Question 1**"
      ],
      "metadata": {
        "id": "ioxgQdE4I_Ai"
      }
    },
    {
      "cell_type": "code",
      "source": [
        "import math\n",
        "import random\n",
        "import numpy as np\n",
        "import requests\n",
        "import pandas as pd\n",
        "from sklearn.model_selection import train_test_split\n",
        "from sklearn.linear_model import LinearRegression\n",
        "from sklearn.metrics import mean_squared_error\n",
        "import matplotlib.pyplot as plt\n"
      ],
      "metadata": {
        "id": "dWR9y_bOJHOq"
      },
      "execution_count": null,
      "outputs": []
    },
    {
      "cell_type": "code",
      "source": [
        "dataframe = pd.read_csv(\"/content/sample_data/Health Insurance Dataset.csv\")"
      ],
      "metadata": {
        "id": "oISLIKyV3xXJ"
      },
      "execution_count": null,
      "outputs": []
    },
    {
      "cell_type": "code",
      "source": [
        "dataframe['bmi'] = dataframe['bmi'].str.replace('٫', '.')\n",
        "dataframe['charges'] = dataframe['charges'].str.replace('٫', '.')"
      ],
      "metadata": {
        "id": "HOGcQd0yFe-D"
      },
      "execution_count": null,
      "outputs": []
    },
    {
      "cell_type": "code",
      "source": [
        "dataframe_num = dataframe\n",
        "replacement_map = {'male': 1, 'female': 0}\n",
        "dataframe_num['sex'] = dataframe_num['sex'].replace(replacement_map)\n",
        "replacement_map = {'no': 0, 'yes': 1}\n",
        "dataframe_num['smoker'] = dataframe_num['smoker'].replace(replacement_map)\n",
        "replacement_map = {'southwest': 0, 'northwest': 1, 'northeast':2 , 'southeast':3}\n",
        "dataframe_num['region'] = dataframe_num['region'].replace(replacement_map)\n",
        "dataframe_num['charges'] = pd.to_numeric(dataframe_num['charges'], errors='coerce', downcast='float')\n",
        "dataframe_num['bmi'] = pd.to_numeric(dataframe_num['bmi'], errors='coerce', downcast='float')\n",
        "correlation_matrix = dataframe_num.corr()\n",
        "print(correlation_matrix)"
      ],
      "metadata": {
        "colab": {
          "base_uri": "https://localhost:8080/"
        },
        "id": "3BwHIlmIEfQI",
        "outputId": "77857122-b891-469f-dd2a-85105f00c460"
      },
      "execution_count": null,
      "outputs": [
        {
          "output_type": "stream",
          "name": "stdout",
          "text": [
            "               age       sex       bmi  children    smoker    region   charges\n",
            "age       1.000000 -0.020856  0.109272  0.042469 -0.025019 -0.012027  0.299008\n",
            "sex      -0.020856  1.000000  0.046371  0.017163  0.076185  0.014144  0.057292\n",
            "bmi       0.109272  0.046371  1.000000  0.012759  0.003750  0.162590  0.198341\n",
            "children  0.042469  0.017163  0.012759  1.000000  0.007673 -0.035115  0.067998\n",
            "smoker   -0.025019  0.076185  0.003750  0.007673  1.000000  0.069008  0.787251\n",
            "region   -0.012027  0.014144  0.162590 -0.035115  0.069008  1.000000  0.077042\n",
            "charges   0.299008  0.057292  0.198341  0.067998  0.787251  0.077042  1.000000\n"
          ]
        }
      ]
    },
    {
      "cell_type": "code",
      "source": [
        "df = dataframe_num.sample(100)\n",
        "\n",
        "df_smoker = df[df['smoker'] == 1]\n",
        "df_nosmoker = df[df['smoker'] == 0]\n",
        "\n",
        "plt.scatter(df_smoker['age'], df_smoker['charges'], label=\"Smoker\")\n",
        "plt.scatter(df_nosmoker['age'], df_nosmoker['charges'], label=\"No Smoker\")\n",
        "\n",
        "#max_index = np.argmax(df['charges'].values)\n",
        "#min_index = np.argmin(df['charges'].values)\n",
        "\n",
        "#sample_indices = random.sample(df.index.tolist(), 4)\n",
        "\n",
        "#plt.xticks(sample_indices)\n",
        "#plt.yticks(sample_indices)\n",
        "plt.legend()\n",
        "plt.xlabel(\"age\")\n",
        "plt.ylabel(\"charges\")\n",
        "plt.title(\"Health Insurance data\");"
      ],
      "metadata": {
        "id": "zKtrSvYmXr6G",
        "colab": {
          "base_uri": "https://localhost:8080/",
          "height": 472
        },
        "outputId": "7d8fcee6-88aa-4695-e88b-fd57370a2c2b"
      },
      "execution_count": null,
      "outputs": [
        {
          "output_type": "display_data",
          "data": {
            "text/plain": [
              "<Figure size 640x480 with 1 Axes>"
            ],
            "image/png": "[encoded data removed]"
          },
          "metadata": {}
        }
      ]
    },
    {
      "cell_type": "code",
      "source": [
        "dataframe_x = dataframe_num[dataframe_num.columns.difference(['charges'])]\n",
        "X_train, X_test, y_train, y_test = train_test_split(dataframe_x, dataframe_num['charges'], test_size=0.3)"
      ],
      "metadata": {
        "id": "wV9kG2-LY5mr"
      },
      "execution_count": null,
      "outputs": []
    },
    {
      "cell_type": "code",
      "source": [
        "model =  LinearRegression(fit_intercept=True)\n",
        "model.fit(X_train, y_train)\n",
        "print(model.coef_)\n",
        "print(model.intercept_)"
      ],
      "metadata": {
        "id": "nBVJU6uG7m3E",
        "colab": {
          "base_uri": "https://localhost:8080/"
        },
        "outputId": "1739ebd0-8e3d-4b76-fe33-235c6f731297"
      },
      "execution_count": null,
      "outputs": [
        {
          "output_type": "stream",
          "name": "stdout",
          "text": [
            "[  255.28800573   310.86116708   645.70212602    77.35149194\n",
            "  -703.17409953 24177.29454321]\n",
            "-11860.534924879425\n"
          ]
        }
      ]
    },
    {
      "cell_type": "code",
      "source": [
        "y_train_pred = model.predict(X_train)\n",
        "mse = mean_squared_error(y_train, y_train_pred)\n",
        "print(\"The mean square error on training data: \",mse)\n",
        "y_pred = model.predict(X_test)\n",
        "mse = mean_squared_error(y_test, y_pred)\n",
        "print(\"The mean square error on testing data: \",mse)"
      ],
      "metadata": {
        "colab": {
          "base_uri": "https://localhost:8080/"
        },
        "id": "OYaY5-f24gLm",
        "outputId": "ea9aefcd-b8ad-41e5-d20d-3a91352e79ca"
      },
      "execution_count": null,
      "outputs": [
        {
          "output_type": "stream",
          "name": "stdout",
          "text": [
            "The mean square error on training data:  36165770.26266331\n",
            "The mean square error on testing data:  38451095.656980924\n"
          ]
        }
      ]
    }
  ]
}